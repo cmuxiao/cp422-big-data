{
 "cells": [
  {
   "cell_type": "markdown",
   "metadata": {
    "application/vnd.databricks.v1+cell": {
     "cellMetadata": {},
     "inputWidgets": {},
     "nuid": "410dacbb-a3f3-4442-ab6c-7c9c98a503d1",
     "showTitle": false,
     "tableResultSettingsMap": {},
     "title": ""
    }
   },
   "source": [
    "#CP422 Assignment 2"
   ]
  },
  {
   "cell_type": "markdown",
   "metadata": {
    "application/vnd.databricks.v1+cell": {
     "cellMetadata": {},
     "inputWidgets": {},
     "nuid": "dad2aba4-4af2-4b7a-81ac-216d674fa18f",
     "showTitle": false,
     "tableResultSettingsMap": {},
     "title": ""
    }
   },
   "source": [
    "## Loading Data"
   ]
  },
  {
   "cell_type": "code",
   "execution_count": 87,
   "metadata": {
    "application/vnd.databricks.v1+cell": {
     "cellMetadata": {
      "byteLimit": 2048000,
      "rowLimit": 10000
     },
     "inputWidgets": {},
     "nuid": "12fd53d2-cda1-42e6-abfc-93deadb7cddd",
     "showTitle": false,
     "tableResultSettingsMap": {},
     "title": ""
    }
   },
   "outputs": [
    {
     "name": "stderr",
     "output_type": "stream",
     "text": [
      "                                                                                \r"
     ]
    }
   ],
   "source": [
    "from pyspark.sql import SparkSession\n",
    "\n",
    "# Initialize SparkSession\n",
    "spark = SparkSession.builder \\\n",
    "    .appName(\"TaxiDataAnalysis\") \\\n",
    "    .getOrCreate()\n",
    "# Read the CSV file into a Spark DataFrame\n",
    "df = spark.read.format(\"csv\") \\\n",
    "    .option(\"header\", \"true\") \\\n",
    "    .option(\"inferSchema\", \"true\") \\\n",
    "    .load(\"yellow_tripdata_2015-01.csv\")\n",
    "\n",
    "# Create a temporary view for SQL queries\n",
    "df.createOrReplaceTempView(\"yellow_taxi_data\")\n"
   ]
  },
  {
   "cell_type": "markdown",
   "metadata": {
    "application/vnd.databricks.v1+cell": {
     "cellMetadata": {},
     "inputWidgets": {},
     "nuid": "41e64e2d-a02c-42b2-a9ee-e25bd36fa7de",
     "showTitle": false,
     "tableResultSettingsMap": {},
     "title": ""
    }
   },
   "source": [
    "## Q1: Outlier Detection"
   ]
  },
  {
   "cell_type": "markdown",
   "metadata": {
    "application/vnd.databricks.v1+cell": {
     "cellMetadata": {},
     "inputWidgets": {},
     "nuid": "d2d7b68a-5c33-44fc-a96f-cc82995e949b",
     "showTitle": false,
     "tableResultSettingsMap": {},
     "title": ""
    }
   },
   "source": [
    "### Task 1: Write a SQL query to find trips with fare amounts over $1000."
   ]
  },
  {
   "cell_type": "code",
   "execution_count": 88,
   "metadata": {
    "application/vnd.databricks.v1+cell": {
     "cellMetadata": {
      "byteLimit": 2048000,
      "implicitDf": true,
      "rowLimit": 10000
     },
     "inputWidgets": {},
     "nuid": "3698577c-ec18-4c8e-a832-f4b0cfc86beb",
     "showTitle": false,
     "tableResultSettingsMap": {},
     "title": ""
    }
   },
   "outputs": [
    {
     "name": "stderr",
     "output_type": "stream",
     "text": [
      "[Stage 136:==================================================>     (9 + 1) / 10]\r"
     ]
    },
    {
     "name": "stdout",
     "output_type": "stream",
     "text": [
      "+--------+--------------------+---------------------+---------------+-------------+------------------+------------------+----------+------------------+------------------+------------------+------------+-----------+-----+-------+----------+------------+---------------------+------------+\n",
      "|VendorID|tpep_pickup_datetime|tpep_dropoff_datetime|passenger_count|trip_distance|  pickup_longitude|   pickup_latitude|RateCodeID|store_and_fwd_flag| dropoff_longitude|  dropoff_latitude|payment_type|fare_amount|extra|mta_tax|tip_amount|tolls_amount|improvement_surcharge|total_amount|\n",
      "+--------+--------------------+---------------------+---------------+-------------+------------------+------------------+----------+------------------+------------------+------------------+------------+-----------+-----+-------+----------+------------+---------------------+------------+\n",
      "|       2| 2015-01-02 20:06:34|  2015-01-02 20:23:33|              1|          0.4|-74.01433563232422|40.711856842041016|         1|                 N|-73.98519134521484| 40.76046371459961|           2|     3005.5| 0.05|    0.5|       0.0|         0.0|                  0.3|     3006.35|\n",
      "|       1| 2015-01-22 21:12:26|  2015-01-22 21:20:36|              1|          1.7|-73.96153259277344| 40.77063751220703|         1|                 N|-73.97850799560547|40.749515533447266|           2|     4008.0|  0.5|    0.5|       0.0|         0.0|                  0.3|      4009.3|\n",
      "+--------+--------------------+---------------------+---------------+-------------+------------------+------------------+----------+------------------+------------------+------------------+------------+-----------+-----+-------+----------+------------+---------------------+------------+\n",
      "\n"
     ]
    },
    {
     "name": "stderr",
     "output_type": "stream",
     "text": [
      "                                                                                \r"
     ]
    }
   ],
   "source": [
    "# SQL query to find trips with fare amounts over $1000\n",
    "query = \"\"\"\n",
    "SELECT *\n",
    "FROM yellow_taxi_data\n",
    "WHERE fare_amount > 1000\n",
    "\"\"\"\n",
    "\n",
    "# Run the query\n",
    "result_df = spark.sql(query)\n",
    "\n",
    "# Show the results\n",
    "result_df.show()"
   ]
  },
  {
   "cell_type": "markdown",
   "metadata": {
    "application/vnd.databricks.v1+cell": {
     "cellMetadata": {},
     "inputWidgets": {},
     "nuid": "c56979b6-329d-4a48-a571-fb954d6591b3",
     "showTitle": false,
     "tableResultSettingsMap": {},
     "title": ""
    }
   },
   "source": [
    "### Task 2: Write another query to find trips with zero or negative fare amounts."
   ]
  },
  {
   "cell_type": "code",
   "execution_count": 89,
   "metadata": {
    "application/vnd.databricks.v1+cell": {
     "cellMetadata": {
      "byteLimit": 2048000,
      "implicitDf": true,
      "rowLimit": 10000
     },
     "inputWidgets": {},
     "nuid": "73e42662-cd23-4f95-a6bd-3ba054509c28",
     "showTitle": false,
     "tableResultSettingsMap": {},
     "title": ""
    }
   },
   "outputs": [
    {
     "name": "stdout",
     "output_type": "stream",
     "text": [
      "+--------+--------------------+---------------------+---------------+-------------+------------------+------------------+----------+------------------+------------------+------------------+------------+-----------+-----+-------+----------+------------+---------------------+------------+\n",
      "|VendorID|tpep_pickup_datetime|tpep_dropoff_datetime|passenger_count|trip_distance|  pickup_longitude|   pickup_latitude|RateCodeID|store_and_fwd_flag| dropoff_longitude|  dropoff_latitude|payment_type|fare_amount|extra|mta_tax|tip_amount|tolls_amount|improvement_surcharge|total_amount|\n",
      "+--------+--------------------+---------------------+---------------+-------------+------------------+------------------+----------+------------------+------------------+------------------+------------+-----------+-----+-------+----------+------------+---------------------+------------+\n",
      "|       1| 2015-01-28 20:22:19|  2015-01-28 20:23:19|              2|          4.8|-74.03569030761719|40.743648529052734|         5|                 N|-74.03571319580078| 40.74365997314453|           3|        0.0|  0.0|    0.0|       0.0|         0.0|                  0.3|         0.3|\n",
      "|       2| 2015-01-17 22:40:27|  2015-01-17 22:43:04|              1|         0.11|-74.00235748291016| 40.73982620239258|         1|                 N|-74.00111389160156| 40.74110794067383|           4|       -3.5| -0.5|   -0.5|       0.0|         0.0|                  0.3|        -4.8|\n",
      "|       2| 2015-01-15 17:33:24|  2015-01-15 17:33:31|              2|          0.0| -73.9825668334961| 40.73979949951172|         1|                 N| -73.9825668334961| 40.73979949951172|           3|       -2.5| -1.0|   -0.5|      -0.7|         0.0|                  0.3|        -5.0|\n",
      "|       1| 2015-01-21 10:16:35|  2015-01-21 10:16:54|              1|          0.0| -73.9929428100586| 40.76789855957031|         5|                 N| -73.9929428100586|40.767887115478516|           1|        0.0|  0.0|    0.0|      11.0|         0.0|                  0.3|        11.3|\n",
      "|       2| 2015-01-06 12:43:31|  2015-01-06 12:46:07|              5|         0.23| -73.9603271484375| 40.76001739501953|         2|                 N|-73.96344757080078| 40.76166534423828|           2|        0.0|  0.0|    0.5|       0.0|         0.0|                  0.3|         0.0|\n",
      "|       1| 2015-01-23 23:57:43|  2015-01-24 00:35:26|              2|         13.4|-73.97903442382812|  40.7663688659668|         5|                 N|-74.15727996826172| 40.73886489868164|           4|        0.0|  0.0|    0.0|       0.0|         0.0|                  0.3|         0.3|\n",
      "|       2| 2015-01-16 16:00:45|  2015-01-16 16:00:53|              1|          0.0| -73.9377212524414| 40.75819396972656|         1|                 N| -73.9377212524414| 40.75819396972656|           3|       -2.5| -1.0|   -0.5|       0.0|         0.0|                  0.3|        -4.3|\n",
      "|       1| 2015-01-08 22:26:34|  2015-01-08 22:26:34|              1|          0.0|               0.0|               0.0|         5|                 Y|               0.0|               0.0|           2|        0.0|  0.0|    0.0|       0.0|         0.0|                  0.3|         0.3|\n",
      "|       2| 2015-01-31 23:38:52|  2015-01-31 23:38:54|              2|          0.0|               0.0|               0.0|         2|                 N|               0.0|               0.0|           2|      -52.0|  0.0|   -0.5|       0.0|         0.0|                  0.3|       -52.8|\n",
      "|       1| 2015-01-22 09:32:57|  2015-01-22 09:54:39|              3|          2.4|-73.95448303222656| 40.74155807495117|         5|                 N|-73.99308013916016| 40.74636459350586|           1|        0.0|  0.0|    0.0|      10.0|         0.0|                  0.3|        10.3|\n",
      "|       1| 2015-01-05 02:27:56|  2015-01-05 02:32:51|              2|          2.9|               0.0|               0.0|         5|                 N|-73.97557067871094| 40.74790573120117|           3|        0.0|  0.0|    0.0|       0.0|        5.33|                  0.3|        5.63|\n",
      "|       2| 2015-01-10 02:23:53|  2015-01-10 02:23:58|              2|          0.0|               0.0|               0.0|         5|                 N|               0.0|               0.0|           1|       -6.8|  0.0|    0.0|      -1.0|         0.0|                  0.3|        -8.1|\n",
      "|       2| 2015-01-13 08:45:10|  2015-01-13 08:46:32|              5|          0.0|-73.90199279785156| 40.76407241821289|         1|                 N|-73.90202331542969|40.764068603515625|           2|        0.0|  0.0|    0.0|       0.0|         0.0|                  0.3|         0.0|\n",
      "|       2| 2015-01-14 11:52:09|  2015-01-14 11:52:20|              1|          0.0|-73.78995513916016| 40.64694595336914|         2|                 N|               0.0|               0.0|           3|      -52.0|  0.0|   -0.5|    -14.33|       -5.33|                  0.3|      -72.46|\n",
      "|       2| 2015-01-03 02:01:25|  2015-01-03 02:01:54|              1|         0.03|-73.95340728759766| 40.81114959716797|         1|                 N|-73.95375061035156|40.811302185058594|           2|       -2.5| -0.5|   -0.5|       0.0|         0.0|                  0.3|        -3.8|\n",
      "|       2| 2015-01-20 20:44:47|  2015-01-20 20:44:48|              1|          0.0|               0.0|               0.0|         1|                 N| -73.9373779296875|40.758209228515625|           1|        0.0|  0.0|    0.0|       0.0|         0.0|                  0.3|         0.0|\n",
      "|       2| 2015-01-17 11:12:35|  2015-01-17 11:14:52|              1|          0.0|-73.93765258789062|40.758121490478516|         1|                 N|-73.93766021728516| 40.75809097290039|           1|        0.0|  0.0|    0.0|       0.0|         0.0|                  0.3|         0.0|\n",
      "|       2| 2015-01-12 15:07:29|  2015-01-12 15:07:35|              1|          0.0|               0.0|               0.0|         2|                 N|               0.0|               0.0|           2|      -52.0|  0.0|   -0.5|       0.0|         0.0|                  0.3|       -52.8|\n",
      "|       2| 2015-01-06 14:07:25|  2015-01-06 14:08:27|              1|         0.03|-73.99456024169922|40.740318298339844|         1|                 N|-73.99533081054688| 40.74095153808594|           4|       -2.5|  0.0|   -0.5|       0.0|         0.0|                  0.3|        -3.3|\n",
      "|       2| 2015-01-10 21:10:20|  2015-01-10 21:12:39|              1|         0.03|     -73.986328125|40.755279541015625|         1|                 N|-73.98542022705078|40.755088806152344|           4|       -3.5| -0.5|   -0.5|       0.0|         0.0|                  0.3|        -4.8|\n",
      "+--------+--------------------+---------------------+---------------+-------------+------------------+------------------+----------+------------------+------------------+------------------+------------+-----------+-----+-------+----------+------------+---------------------+------------+\n",
      "only showing top 20 rows\n",
      "\n"
     ]
    }
   ],
   "source": [
    "# SQL query to find trips with zero or negative fare amounts\n",
    "query = \"\"\"\n",
    "SELECT *\n",
    "FROM yellow_taxi_data\n",
    "WHERE fare_amount <= 0\n",
    "\"\"\"\n",
    "\n",
    "# Run the query\n",
    "result_df = spark.sql(query)\n",
    "\n",
    "# Show the results\n",
    "result_df.show()"
   ]
  },
  {
   "cell_type": "markdown",
   "metadata": {
    "application/vnd.databricks.v1+cell": {
     "cellMetadata": {},
     "inputWidgets": {},
     "nuid": "57525da5-5968-4ec1-b7e3-dcaf3714c832",
     "showTitle": false,
     "tableResultSettingsMap": {},
     "title": ""
    }
   },
   "source": [
    "## Q2: Correlation Analysis"
   ]
  },
  {
   "cell_type": "markdown",
   "metadata": {
    "application/vnd.databricks.v1+cell": {
     "cellMetadata": {},
     "inputWidgets": {},
     "nuid": "00cec31b-bcdb-43e2-b96d-a8356c5081b0",
     "showTitle": false,
     "tableResultSettingsMap": {},
     "title": ""
    }
   },
   "source": [
    "###Task 1.1: Write SQL queries to calculate the correlation between for fare_amount and trip_distance."
   ]
  },
  {
   "cell_type": "code",
   "execution_count": 90,
   "metadata": {
    "application/vnd.databricks.v1+cell": {
     "cellMetadata": {
      "byteLimit": 2048000,
      "implicitDf": true,
      "rowLimit": 10000
     },
     "inputWidgets": {},
     "nuid": "7bba6b3b-8847-4c32-9f62-9fb5f46d673b",
     "showTitle": false,
     "tableResultSettingsMap": {},
     "title": ""
    }
   },
   "outputs": [
    {
     "name": "stderr",
     "output_type": "stream",
     "text": [
      "[Stage 138:=============================>                          (8 + 7) / 15]\r"
     ]
    },
    {
     "name": "stdout",
     "output_type": "stream",
     "text": [
      "+-----------------------+\n",
      "|fare_trip_distance_corr|\n",
      "+-----------------------+\n",
      "|   4.422117955836895E-4|\n",
      "+-----------------------+\n",
      "\n"
     ]
    },
    {
     "name": "stderr",
     "output_type": "stream",
     "text": [
      "                                                                                \r"
     ]
    }
   ],
   "source": [
    "query = \"\"\"\n",
    "SELECT corr(fare_amount, trip_distance) AS fare_trip_distance_corr\n",
    "FROM yellow_taxi_data\n",
    "\"\"\"\n",
    "\n",
    "# Run the query\n",
    "result_df = spark.sql(query)\n",
    "\n",
    "# Show the results\n",
    "result_df.show()\n"
   ]
  },
  {
   "cell_type": "markdown",
   "metadata": {
    "application/vnd.databricks.v1+cell": {
     "cellMetadata": {},
     "inputWidgets": {},
     "nuid": "c3c70b8c-25b3-426c-bd42-2c8f937eea98",
     "showTitle": false,
     "tableResultSettingsMap": {},
     "title": ""
    }
   },
   "source": [
    "### Task 1.2: Write SQL queries to calculate the correlation between total_amount and trip_distance."
   ]
  },
  {
   "cell_type": "code",
   "execution_count": 91,
   "metadata": {
    "application/vnd.databricks.v1+cell": {
     "cellMetadata": {
      "byteLimit": 2048000,
      "implicitDf": true,
      "rowLimit": 10000
     },
     "inputWidgets": {},
     "nuid": "f5563ad4-2d42-49d5-88c8-ac875693b93b",
     "showTitle": false,
     "tableResultSettingsMap": {},
     "title": ""
    }
   },
   "outputs": [
    {
     "name": "stderr",
     "output_type": "stream",
     "text": [
      "[Stage 141:=============================>                          (8 + 7) / 15]\r"
     ]
    },
    {
     "name": "stdout",
     "output_type": "stream",
     "text": [
      "+------------------------+\n",
      "|total_trip_distance_corr|\n",
      "+------------------------+\n",
      "|    3.339064563073854...|\n",
      "+------------------------+\n",
      "\n"
     ]
    },
    {
     "name": "stderr",
     "output_type": "stream",
     "text": [
      "                                                                                \r"
     ]
    }
   ],
   "source": [
    "query=\"\"\"\n",
    "SELECT corr(total_amount, trip_distance) AS total_trip_distance_corr\n",
    "FROM yellow_taxi_data\n",
    "\"\"\"\n",
    "# Run the query\n",
    "result_df = spark.sql(query)\n",
    "\n",
    "# Show the results\n",
    "result_df.show()"
   ]
  },
  {
   "cell_type": "markdown",
   "metadata": {
    "application/vnd.databricks.v1+cell": {
     "cellMetadata": {},
     "inputWidgets": {},
     "nuid": "9b572c8c-c3bc-415a-a05c-62bf72983e27",
     "showTitle": false,
     "tableResultSettingsMap": {},
     "title": ""
    }
   },
   "source": [
    "## Task 2: Analysis of Correlations"
   ]
  },
  {
   "cell_type": "markdown",
   "metadata": {
    "application/vnd.databricks.v1+cell": {
     "cellMetadata": {},
     "inputWidgets": {},
     "nuid": "25d4e372-c6e9-41f5-83ac-d7e71b02e18a",
     "showTitle": false,
     "tableResultSettingsMap": {},
     "title": ""
    }
   },
   "source": [
    "Correlation between fare_amount and trip_distance:\n",
    "- A positive correlation coefficient close to 1 indicates a strong positive linear relationship, suggesting that as the trip distance increases, the fare amount also increases proportionally.\n",
    "\n",
    "Correlation between total_amount and trip_distance:\n",
    "- This correlation measures how the total amount (including fare and additional charges) relates to trip distance. A strong positive correlation implies that longer trips tend to have higher total charges.\n",
    "\n"
   ]
  },
  {
   "cell_type": "markdown",
   "metadata": {
    "application/vnd.databricks.v1+cell": {
     "cellMetadata": {},
     "inputWidgets": {},
     "nuid": "2271541e-a581-40e8-841e-28d22c78918d",
     "showTitle": false,
     "tableResultSettingsMap": {},
     "title": ""
    }
   },
   "source": [
    "## Q3: Trip Duration Prediction"
   ]
  },
  {
   "cell_type": "markdown",
   "metadata": {
    "application/vnd.databricks.v1+cell": {
     "cellMetadata": {},
     "inputWidgets": {},
     "nuid": "884b6049-b767-4de4-b167-77c1a9073c3a",
     "showTitle": false,
     "tableResultSettingsMap": {},
     "title": ""
    }
   },
   "source": [
    "### Task 1: Calculate the trip duration in minutes for each trip.\n"
   ]
  },
  {
   "cell_type": "code",
   "execution_count": 92,
   "metadata": {
    "application/vnd.databricks.v1+cell": {
     "cellMetadata": {
      "byteLimit": 2048000,
      "rowLimit": 10000
     },
     "inputWidgets": {},
     "nuid": "b450cfe5-729c-4c58-bc7e-bb5701b3e300",
     "showTitle": false,
     "tableResultSettingsMap": {},
     "title": ""
    }
   },
   "outputs": [],
   "source": [
    "from pyspark.sql.functions import unix_timestamp\n",
    "\n",
    "# Add a new column 'trip_duration_minutes' to the DataFrame\n",
    "df_with_duration = df.withColumn(\n",
    "    \"trip_duration_minutes\",\n",
    "    (unix_timestamp(\"tpep_dropoff_datetime\") - unix_timestamp(\"tpep_pickup_datetime\")) / 60\n",
    ")\n",
    "\n",
    "# Create a temporary view with the new column\n",
    "df_with_duration.createOrReplaceTempView(\"yellow_taxi_with_duration\")\n"
   ]
  },
  {
   "cell_type": "markdown",
   "metadata": {
    "application/vnd.databricks.v1+cell": {
     "cellMetadata": {},
     "inputWidgets": {},
     "nuid": "9cfce991-e8d2-4a6d-8400-fc8f75a39aaa",
     "showTitle": false,
     "tableResultSettingsMap": {},
     "title": ""
    }
   },
   "source": [
    "### Task 2: Write a SQL query to find the average trip duration for trips with different passenger counts."
   ]
  },
  {
   "cell_type": "code",
   "execution_count": 93,
   "metadata": {
    "application/vnd.databricks.v1+cell": {
     "cellMetadata": {
      "byteLimit": 2048000,
      "implicitDf": true,
      "rowLimit": 10000
     },
     "inputWidgets": {},
     "nuid": "78b86313-a291-4dc1-8562-42c3f1b6543c",
     "showTitle": false,
     "tableResultSettingsMap": {},
     "title": ""
    }
   },
   "outputs": [
    {
     "name": "stderr",
     "output_type": "stream",
     "text": [
      "[Stage 144:=================================>                      (9 + 6) / 15]\r"
     ]
    },
    {
     "name": "stdout",
     "output_type": "stream",
     "text": [
      "+---------------+---------------------+\n",
      "|passenger_count|average_trip_duration|\n",
      "+---------------+---------------------+\n",
      "|              0|   12.558855039350089|\n",
      "|              1|   14.246676076779718|\n",
      "|              2|   13.842955421433144|\n",
      "|              3|   14.025823263687862|\n",
      "|              4|   13.840397849632195|\n",
      "|              5|   14.517415328235217|\n",
      "|              6|   14.051230948944927|\n",
      "|              7|    8.837037037037037|\n",
      "|              8|    5.345000000000001|\n",
      "|              9|   15.793939393939395|\n",
      "+---------------+---------------------+\n",
      "\n"
     ]
    },
    {
     "name": "stderr",
     "output_type": "stream",
     "text": [
      "                                                                                \r"
     ]
    }
   ],
   "source": [
    "\n",
    "\n",
    "\n",
    "\n",
    "query = \"\"\"\n",
    "SELECT passenger_count, AVG(trip_duration_minutes) AS average_trip_duration\n",
    "FROM yellow_taxi_with_duration\n",
    "GROUP BY passenger_count\n",
    "ORDER BY passenger_count\n",
    "\"\"\"\n",
    "\n",
    "# Run the query\n",
    "result_df = spark.sql(query)\n",
    "\n",
    "# Show the results\n",
    "result_df.show()\n"
   ]
  },
  {
   "cell_type": "markdown",
   "metadata": {
    "application/vnd.databricks.v1+cell": {
     "cellMetadata": {
      "byteLimit": 2048000,
      "rowLimit": 10000
     },
     "inputWidgets": {},
     "nuid": "2c9bb123-3862-41a9-86f4-08df2cca4292",
     "showTitle": false,
     "tableResultSettingsMap": {},
     "title": ""
    }
   },
   "source": [
    "## Q4: Trip Clustering"
   ]
  },
  {
   "cell_type": "markdown",
   "metadata": {
    "application/vnd.databricks.v1+cell": {
     "cellMetadata": {},
     "inputWidgets": {},
     "nuid": "f63a7277-7ed4-41f6-97c6-09124c76b7fb",
     "showTitle": false,
     "tableResultSettingsMap": {},
     "title": ""
    }
   },
   "source": [
    "## Task 1: Use SQL to categorize trips into distance bins (e.g., <1 mile, 1-2 miles, 2-5 miles, >5 miles)."
   ]
  },
  {
   "cell_type": "code",
   "execution_count": 94,
   "metadata": {
    "application/vnd.databricks.v1+cell": {
     "cellMetadata": {
      "byteLimit": 2048000,
      "implicitDf": true,
      "rowLimit": 10000
     },
     "inputWidgets": {},
     "nuid": "bb2202f3-b08f-435f-b30d-3444dca59840",
     "showTitle": false,
     "tableResultSettingsMap": {},
     "title": ""
    }
   },
   "outputs": [
    {
     "name": "stdout",
     "output_type": "stream",
     "text": [
      "+--------+--------------------+---------------------+---------------+-------------+------------------+------------------+----------+------------------+------------------+------------------+------------+-----------+-----+-------+----------+------------+---------------------+------------+------------+\n",
      "|VendorID|tpep_pickup_datetime|tpep_dropoff_datetime|passenger_count|trip_distance|  pickup_longitude|   pickup_latitude|RateCodeID|store_and_fwd_flag| dropoff_longitude|  dropoff_latitude|payment_type|fare_amount|extra|mta_tax|tip_amount|tolls_amount|improvement_surcharge|total_amount|distance_bin|\n",
      "+--------+--------------------+---------------------+---------------+-------------+------------------+------------------+----------+------------------+------------------+------------------+------------+-----------+-----+-------+----------+------------+---------------------+------------+------------+\n",
      "|       2| 2015-01-15 19:05:39|  2015-01-15 19:23:42|              1|         1.59|  -73.993896484375|  40.7501106262207|         1|                 N|-73.97478485107422| 40.75061798095703|           1|       12.0|  1.0|    0.5|      3.25|         0.0|                  0.3|       17.05|   1-2 miles|\n",
      "|       1| 2015-01-10 20:33:38|  2015-01-10 20:53:28|              1|          3.3|-74.00164794921875|  40.7242431640625|         1|                 N|-73.99441528320312| 40.75910949707031|           1|       14.5|  0.5|    0.5|       2.0|         0.0|                  0.3|        17.8|   2-5 miles|\n",
      "|       1| 2015-01-10 20:33:38|  2015-01-10 20:43:41|              1|          1.8|-73.96334075927734| 40.80278778076172|         1|                 N|-73.95182037353516| 40.82441329956055|           2|        9.5|  0.5|    0.5|       0.0|         0.0|                  0.3|        10.8|   1-2 miles|\n",
      "|       1| 2015-01-10 20:33:39|  2015-01-10 20:35:31|              1|          0.5|-74.00908660888672| 40.71381759643555|         1|                 N|-74.00432586669922| 40.71998596191406|           2|        3.5|  0.5|    0.5|       0.0|         0.0|                  0.3|         4.8|     <1 mile|\n",
      "|       1| 2015-01-10 20:33:39|  2015-01-10 20:52:58|              1|          3.0|-73.97117614746094|40.762428283691406|         1|                 N|-74.00418090820312|40.742652893066406|           2|       15.0|  0.5|    0.5|       0.0|         0.0|                  0.3|        16.3|   2-5 miles|\n",
      "|       1| 2015-01-10 20:33:39|  2015-01-10 20:53:52|              1|          9.0|-73.87437438964844|  40.7740478515625|         1|                 N|-73.98697662353516| 40.75819396972656|           1|       27.0|  0.5|    0.5|       6.7|        5.33|                  0.3|       40.33|    >5 miles|\n",
      "|       1| 2015-01-10 20:33:39|  2015-01-10 20:58:31|              1|          2.2| -73.9832763671875|40.726009368896484|         1|                 N|-73.99246978759766|  40.7496337890625|           2|       14.0|  0.5|    0.5|       0.0|         0.0|                  0.3|        15.3|   2-5 miles|\n",
      "|       1| 2015-01-10 20:33:39|  2015-01-10 20:42:20|              3|          0.8| -74.0026626586914|  40.7341423034668|         1|                 N|-73.99501037597656| 40.72632598876953|           1|        7.0|  0.5|    0.5|      1.66|         0.0|                  0.3|        9.96|     <1 mile|\n",
      "|       1| 2015-01-10 20:33:39|  2015-01-10 21:11:35|              3|         18.2|-73.78304290771484| 40.64435577392578|         2|                 N|-73.98759460449219| 40.75935745239258|           2|       52.0|  0.0|    0.5|       0.0|        5.33|                  0.3|       58.13|    >5 miles|\n",
      "|       1| 2015-01-10 20:33:40|  2015-01-10 20:40:44|              2|          0.9|-73.98558807373047|40.767948150634766|         1|                 N|-73.98591613769531| 40.75936508178711|           1|        6.5|  0.5|    0.5|      1.55|         0.0|                  0.3|        9.35|     <1 mile|\n",
      "|       1| 2015-01-10 20:33:40|  2015-01-10 20:41:39|              1|          0.9|-73.98861694335938| 40.72310256958008|         1|                 N|   -74.00439453125| 40.72858428955078|           1|        7.0|  0.5|    0.5|      1.66|         0.0|                  0.3|        9.96|     <1 mile|\n",
      "|       1| 2015-01-10 20:33:41|  2015-01-10 20:43:26|              1|          1.1|-73.99378204345703| 40.75141906738281|         1|                 N| -73.9674072265625| 40.75721740722656|           1|        7.5|  0.5|    0.5|       1.0|         0.0|                  0.3|         9.8|   1-2 miles|\n",
      "|       1| 2015-01-10 20:33:41|  2015-01-10 20:35:23|              1|          0.3|-74.00836181640625|40.704376220703125|         1|                 N|-74.00977325439453|40.707725524902344|           2|        3.0|  0.5|    0.5|       0.0|         0.0|                  0.3|         4.3|     <1 mile|\n",
      "|       1| 2015-01-10 20:33:41|  2015-01-10 21:03:04|              1|          3.1|-73.97394561767578| 40.76044845581055|         1|                 N|-73.99734497070312| 40.73521041870117|           1|       19.0|  0.5|    0.5|       3.0|         0.0|                  0.3|        23.3|   2-5 miles|\n",
      "|       1| 2015-01-10 20:33:41|  2015-01-10 20:39:23|              1|          1.1|-74.00672149658203| 40.73177719116211|         1|                 N| -73.9952163696289| 40.73989486694336|           2|        6.0|  0.5|    0.5|       0.0|         0.0|                  0.3|         7.3|   1-2 miles|\n",
      "|       2| 2015-01-15 19:05:39|  2015-01-15 19:32:00|              1|         2.38|-73.97642517089844|40.739810943603516|         1|                 N|-73.98397827148438| 40.75788879394531|           1|       16.5|  1.0|    0.5|      4.38|         0.0|                  0.3|       22.68|   2-5 miles|\n",
      "|       2| 2015-01-15 19:05:40|  2015-01-15 19:21:00|              5|         2.83|-73.96870422363281| 40.75424575805664|         1|                 N|-73.95512390136719| 40.78685760498047|           2|       12.5|  1.0|    0.5|       0.0|         0.0|                  0.3|        14.3|   2-5 miles|\n",
      "|       2| 2015-01-15 19:05:40|  2015-01-15 19:28:18|              5|         8.33| -73.8630599975586| 40.76958084106445|         1|                 N|-73.95271301269531| 40.78578186035156|           1|       26.0|  1.0|    0.5|      8.08|        5.33|                  0.3|       41.21|    >5 miles|\n",
      "|       2| 2015-01-15 19:05:41|  2015-01-15 19:20:36|              1|         2.37|-73.94554138183594|40.779422760009766|         1|                 N|-73.98085021972656| 40.78608322143555|           1|       11.5|  1.0|    0.5|       0.0|         0.0|                  0.3|        13.3|   2-5 miles|\n",
      "|       2| 2015-01-15 19:05:41|  2015-01-15 19:20:22|              2|         7.13|-73.87445831298828|40.774009704589844|         1|                 N|-73.95237731933594|40.718589782714844|           1|       21.5|  1.0|    0.5|       4.5|         0.0|                  0.3|        27.8|    >5 miles|\n",
      "+--------+--------------------+---------------------+---------------+-------------+------------------+------------------+----------+------------------+------------------+------------------+------------+-----------+-----+-------+----------+------------+---------------------+------------+------------+\n",
      "only showing top 20 rows\n",
      "\n"
     ]
    }
   ],
   "source": [
    "query=\"\"\"\n",
    "-- SQL query to categorize trips into distance bins\n",
    "SELECT *,\n",
    "       CASE\n",
    "           WHEN trip_distance < 1 THEN '<1 mile'\n",
    "           WHEN trip_distance >= 1 AND trip_distance < 2 THEN '1-2 miles'\n",
    "           WHEN trip_distance >= 2 AND trip_distance <= 5 THEN '2-5 miles'\n",
    "           ELSE '>5 miles'\n",
    "       END AS distance_bin\n",
    "FROM yellow_taxi_data\n",
    "\"\"\"\n",
    "\n",
    "# Run the query\n",
    "result_df = spark.sql(query)\n",
    "\n",
    "# Show the results\n",
    "result_df.show()"
   ]
  },
  {
   "cell_type": "markdown",
   "metadata": {
    "application/vnd.databricks.v1+cell": {
     "cellMetadata": {},
     "inputWidgets": {},
     "nuid": "f6db6460-b894-436f-889e-ce79d4d5eea6",
     "showTitle": false,
     "tableResultSettingsMap": {},
     "title": ""
    }
   },
   "source": [
    "## Task 2: Write a SQL query to calculate the average fare amount for each distance bin."
   ]
  },
  {
   "cell_type": "code",
   "execution_count": 95,
   "metadata": {
    "application/vnd.databricks.v1+cell": {
     "cellMetadata": {
      "byteLimit": 2048000,
      "implicitDf": true,
      "rowLimit": 10000
     },
     "inputWidgets": {},
     "nuid": "53d10969-1800-4524-afc4-b9c96b7dca43",
     "showTitle": false,
     "tableResultSettingsMap": {},
     "title": ""
    }
   },
   "outputs": [
    {
     "ename": "AttributeError",
     "evalue": "'DataFrame' object has no attribute 'distance'",
     "output_type": "error",
     "traceback": [
      "\u001b[0;31m---------------------------------------------------------------------------\u001b[0m",
      "\u001b[0;31mAttributeError\u001b[0m                            Traceback (most recent call last)",
      "Cell \u001b[0;32mIn[95], line 6\u001b[0m\n\u001b[1;32m      1\u001b[0m \u001b[38;5;28;01mfrom\u001b[39;00m \u001b[38;5;21;01mpyspark\u001b[39;00m\u001b[38;5;21;01m.\u001b[39;00m\u001b[38;5;21;01msql\u001b[39;00m\u001b[38;5;21;01m.\u001b[39;00m\u001b[38;5;21;01mfunctions\u001b[39;00m \u001b[38;5;28;01mimport\u001b[39;00m when\n\u001b[1;32m      3\u001b[0m \u001b[38;5;66;03m# Create the distance_bin column based on the conditions\u001b[39;00m\n\u001b[1;32m      4\u001b[0m df_with_bins \u001b[38;5;241m=\u001b[39m df\u001b[38;5;241m.\u001b[39mwithColumn(\n\u001b[1;32m      5\u001b[0m     \u001b[38;5;124m\"\u001b[39m\u001b[38;5;124mdistance_bin\u001b[39m\u001b[38;5;124m\"\u001b[39m,\n\u001b[0;32m----> 6\u001b[0m     when(\u001b[43mdf\u001b[49m\u001b[38;5;241;43m.\u001b[39;49m\u001b[43mdistance\u001b[49m \u001b[38;5;241m<\u001b[39m\u001b[38;5;241m=\u001b[39m \u001b[38;5;241m1\u001b[39m, \u001b[38;5;124m\"\u001b[39m\u001b[38;5;124m<1 mile\u001b[39m\u001b[38;5;124m\"\u001b[39m)\n\u001b[1;32m      7\u001b[0m     \u001b[38;5;241m.\u001b[39mwhen((df\u001b[38;5;241m.\u001b[39mdistance \u001b[38;5;241m>\u001b[39m \u001b[38;5;241m1\u001b[39m) \u001b[38;5;241m&\u001b[39m (df\u001b[38;5;241m.\u001b[39mdistance \u001b[38;5;241m<\u001b[39m\u001b[38;5;241m=\u001b[39m \u001b[38;5;241m2\u001b[39m), \u001b[38;5;124m\"\u001b[39m\u001b[38;5;124m1-2 miles\u001b[39m\u001b[38;5;124m\"\u001b[39m)\n\u001b[1;32m      8\u001b[0m     \u001b[38;5;241m.\u001b[39mwhen((df\u001b[38;5;241m.\u001b[39mdistance \u001b[38;5;241m>\u001b[39m \u001b[38;5;241m2\u001b[39m) \u001b[38;5;241m&\u001b[39m (df\u001b[38;5;241m.\u001b[39mdistance \u001b[38;5;241m<\u001b[39m\u001b[38;5;241m=\u001b[39m \u001b[38;5;241m5\u001b[39m), \u001b[38;5;124m\"\u001b[39m\u001b[38;5;124m2-5 miles\u001b[39m\u001b[38;5;124m\"\u001b[39m)\n\u001b[1;32m      9\u001b[0m     \u001b[38;5;241m.\u001b[39mwhen(df\u001b[38;5;241m.\u001b[39mdistance \u001b[38;5;241m>\u001b[39m \u001b[38;5;241m5\u001b[39m, \u001b[38;5;124m\"\u001b[39m\u001b[38;5;124m>5 miles\u001b[39m\u001b[38;5;124m\"\u001b[39m)\n\u001b[1;32m     10\u001b[0m     \u001b[38;5;241m.\u001b[39motherwise(\u001b[38;5;124m\"\u001b[39m\u001b[38;5;124mUnknown\u001b[39m\u001b[38;5;124m\"\u001b[39m)\n\u001b[1;32m     11\u001b[0m )\n\u001b[1;32m     13\u001b[0m \u001b[38;5;66;03m# Create a temporary view with the new column\u001b[39;00m\n\u001b[1;32m     14\u001b[0m df_with_bins\u001b[38;5;241m.\u001b[39mcreateOrReplaceTempView(\u001b[38;5;124m\"\u001b[39m\u001b[38;5;124myellow_taxi_with_bins\u001b[39m\u001b[38;5;124m\"\u001b[39m)\n",
      "File \u001b[0;32m/Library/Frameworks/Python.framework/Versions/3.11/lib/python3.11/site-packages/pyspark/sql/dataframe.py:3129\u001b[0m, in \u001b[0;36mDataFrame.__getattr__\u001b[0;34m(self, name)\u001b[0m\n\u001b[1;32m   3096\u001b[0m \u001b[38;5;250m\u001b[39m\u001b[38;5;124;03m\"\"\"Returns the :class:`Column` denoted by ``name``.\u001b[39;00m\n\u001b[1;32m   3097\u001b[0m \n\u001b[1;32m   3098\u001b[0m \u001b[38;5;124;03m.. versionadded:: 1.3.0\u001b[39;00m\n\u001b[0;32m   (...)\u001b[0m\n\u001b[1;32m   3126\u001b[0m \u001b[38;5;124;03m+---+\u001b[39;00m\n\u001b[1;32m   3127\u001b[0m \u001b[38;5;124;03m\"\"\"\u001b[39;00m\n\u001b[1;32m   3128\u001b[0m \u001b[38;5;28;01mif\u001b[39;00m name \u001b[38;5;129;01mnot\u001b[39;00m \u001b[38;5;129;01min\u001b[39;00m \u001b[38;5;28mself\u001b[39m\u001b[38;5;241m.\u001b[39mcolumns:\n\u001b[0;32m-> 3129\u001b[0m     \u001b[38;5;28;01mraise\u001b[39;00m \u001b[38;5;167;01mAttributeError\u001b[39;00m(\n\u001b[1;32m   3130\u001b[0m         \u001b[38;5;124m\"\u001b[39m\u001b[38;5;124m'\u001b[39m\u001b[38;5;132;01m%s\u001b[39;00m\u001b[38;5;124m'\u001b[39m\u001b[38;5;124m object has no attribute \u001b[39m\u001b[38;5;124m'\u001b[39m\u001b[38;5;132;01m%s\u001b[39;00m\u001b[38;5;124m'\u001b[39m\u001b[38;5;124m\"\u001b[39m \u001b[38;5;241m%\u001b[39m (\u001b[38;5;28mself\u001b[39m\u001b[38;5;241m.\u001b[39m\u001b[38;5;18m__class__\u001b[39m\u001b[38;5;241m.\u001b[39m\u001b[38;5;18m__name__\u001b[39m, name)\n\u001b[1;32m   3131\u001b[0m     )\n\u001b[1;32m   3132\u001b[0m jc \u001b[38;5;241m=\u001b[39m \u001b[38;5;28mself\u001b[39m\u001b[38;5;241m.\u001b[39m_jdf\u001b[38;5;241m.\u001b[39mapply(name)\n\u001b[1;32m   3133\u001b[0m \u001b[38;5;28;01mreturn\u001b[39;00m Column(jc)\n",
      "\u001b[0;31mAttributeError\u001b[0m: 'DataFrame' object has no attribute 'distance'"
     ]
    }
   ],
   "source": [
    "from pyspark.sql.functions import when\n",
    "\n",
    "# Create the distance_bin column based on the conditions\n",
    "df_with_bins = df.withColumn(\n",
    "    \"distance_bin\",\n",
    "    when(df.distance <= 1, \"<1 mile\")\n",
    "    .when((df.distance > 1) & (df.distance <= 2), \"1-2 miles\")\n",
    "    .when((df.distance > 2) & (df.distance <= 5), \"2-5 miles\")\n",
    "    .when(df.distance > 5, \">5 miles\")\n",
    "    .otherwise(\"Unknown\")\n",
    ")\n",
    "\n",
    "# Create a temporary view with the new column\n",
    "df_with_bins.createOrReplaceTempView(\"yellow_taxi_with_bins\")\n",
    "\n",
    "# Now run the SQL query without the CASE expression in the ORDER BY clause\n",
    "query = \"\"\"\n",
    "SELECT distance_bin, AVG(fare_amount) AS average_fare_amount\n",
    "FROM yellow_taxi_with_bins\n",
    "GROUP BY distance_bin\n",
    "ORDER BY distance_bin\n",
    "\"\"\"\n",
    "\n",
    "# Run the query\n",
    "result_df = spark.sql(query)\n",
    "\n",
    "# Show the results\n",
    "result_df.show()"
   ]
  },
  {
   "cell_type": "markdown",
   "metadata": {
    "application/vnd.databricks.v1+cell": {
     "cellMetadata": {},
     "inputWidgets": {},
     "nuid": "42617284-4236-4d67-94b3-a0044869e2f2",
     "showTitle": false,
     "tableResultSettingsMap": {},
     "title": ""
    }
   },
   "source": [
    "## Visualization:\n",
    "We can visualize the average fare amount per distance bin using a bar chart."
   ]
  },
  {
   "cell_type": "code",
   "execution_count": 0,
   "metadata": {
    "application/vnd.databricks.v1+cell": {
     "cellMetadata": {
      "byteLimit": 2048000,
      "rowLimit": 10000
     },
     "inputWidgets": {},
     "nuid": "3f976c3c-deb5-4450-99a4-d06d9518db6e",
     "showTitle": false,
     "tableResultSettingsMap": {},
     "title": ""
    }
   },
   "outputs": [
    {
     "data": {
      "image/png": "[encoded data removed]"
     },
     "metadata": {
      "application/vnd.databricks.v1+output": {
       "addedWidgets": {},
       "arguments": {},
       "data": "data:image/png;base64,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\n",
       "datasetInfos": [],
       "metadata": {},
       "removedWidgets": [],
       "type": "image"
      }
     },
     "output_type": "display_data"
    }
   ],
   "source": [
    "# Convert the query result to a Pandas DataFrame for plotting\n",
    "average_fare_by_bin = spark.sql(\"\"\"\n",
    "    SELECT distance_bin, AVG(fare_amount) AS average_fare_amount\n",
    "    FROM yellow_taxi_with_bins\n",
    "    GROUP BY distance_bin\n",
    "\"\"\").toPandas()\n",
    "\n",
    "import pandas as pd\n",
    "import matplotlib.pyplot as plt\n",
    "\n",
    "# Ensure the bins are in the correct order\n",
    "bin_order = ['<1 mile', '1-2 miles', '2-5 miles', '>5 miles']\n",
    "average_fare_by_bin['distance_bin'] = pd.Categorical(average_fare_by_bin['distance_bin'], categories=bin_order, ordered=True)\n",
    "average_fare_by_bin = average_fare_by_bin.sort_values('distance_bin')\n",
    "\n",
    "# Plot the average fare amount per distance bin\n",
    "plt.figure(figsize=(8,6))\n",
    "plt.bar(average_fare_by_bin['distance_bin'], average_fare_by_bin['average_fare_amount'], color='skyblue')\n",
    "plt.xlabel('Distance Bin')\n",
    "plt.ylabel('Average Fare Amount ($)')\n",
    "plt.title('Average Fare Amount per Distance Bin')\n",
    "plt.show()\n"
   ]
  },
  {
   "cell_type": "markdown",
   "metadata": {},
   "source": [
    "## Q5: "
   ]
  },
  {
   "cell_type": "code",
   "execution_count": 96,
   "metadata": {},
   "outputs": [
    {
     "name": "stderr",
     "output_type": "stream",
     "text": [
      "[Stage 148:=================================>                      (9 + 6) / 15]\r"
     ]
    },
    {
     "name": "stdout",
     "output_type": "stream",
     "text": [
      "+------------+------------------+\n",
      "|distance_bin|      average_fare|\n",
      "+------------+------------------+\n",
      "|     <1 mile| 5.672120578999713|\n",
      "|   1-2 miles|  8.04041196316821|\n",
      "|   2-5 miles|13.087495501926742|\n",
      "|  5-10 miles|23.568011860162635|\n",
      "|   >10 miles| 44.72180584584484|\n",
      "+------------+------------------+\n",
      "\n"
     ]
    },
    {
     "name": "stderr",
     "output_type": "stream",
     "text": [
      "                                                                                \r"
     ]
    }
   ],
   "source": [
    "# SQL query to create distance bins and calculate average fare for each bin\n",
    "query = \"\"\"\n",
    "SELECT \n",
    "    CASE \n",
    "        WHEN trip_distance < 1 THEN '<1 mile'\n",
    "        WHEN trip_distance >= 1 AND trip_distance < 2 THEN '1-2 miles'\n",
    "        WHEN trip_distance >= 2 AND trip_distance < 5 THEN '2-5 miles'\n",
    "        WHEN trip_distance >= 5 AND trip_distance < 10 THEN '5-10 miles'\n",
    "        ELSE '>10 miles'\n",
    "    END AS distance_bin,\n",
    "    AVG(fare_amount) AS average_fare\n",
    "FROM yellow_taxi_data\n",
    "GROUP BY distance_bin\n",
    "ORDER BY \n",
    "    CASE \n",
    "        WHEN distance_bin = '<1 mile' THEN 1\n",
    "        WHEN distance_bin = '1-2 miles' THEN 2\n",
    "        WHEN distance_bin = '2-5 miles' THEN 3\n",
    "        WHEN distance_bin = '5-10 miles' THEN 4\n",
    "        WHEN distance_bin = '>10 miles' THEN 5\n",
    "    END\n",
    "\"\"\"\n",
    "\n",
    "# Execute the query\n",
    "distance_fare_bins = spark.sql(query)\n",
    "\n",
    "# Show the result\n",
    "distance_fare_bins.show()"
   ]
  },
  {
   "cell_type": "markdown",
   "metadata": {},
   "source": [
    "## Visualization"
   ]
  },
  {
   "cell_type": "code",
   "execution_count": 97,
   "metadata": {},
   "outputs": [
    {
     "name": "stderr",
     "output_type": "stream",
     "text": [
      "                                                                                \r"
     ]
    },
    {
     "data": {
      "image/png": "[encoded data removed]",
      "text/plain": [
       "<Figure size 1000x600 with 1 Axes>"
      ]
     },
     "metadata": {},
     "output_type": "display_data"
    }
   ],
   "source": [
    "# Convert the Spark DataFrame to Pandas for plotting\n",
    "distance_fare_bins_df = distance_fare_bins.toPandas()\n",
    "\n",
    "# Import necessary libraries for plotting\n",
    "import matplotlib.pyplot as plt\n",
    "\n",
    "# Plot the average fare per distance bin\n",
    "plt.figure(figsize=(10, 6))\n",
    "plt.bar(distance_fare_bins_df['distance_bin'], distance_fare_bins_df['average_fare'], color='skyblue')\n",
    "plt.xlabel('Distance Bin')\n",
    "plt.ylabel('Average Fare Amount ($)')\n",
    "plt.title('Average Fare Amount per Distance Bin')\n",
    "plt.grid(axis='y')\n",
    "plt.show()"
   ]
  },
  {
   "cell_type": "code",
   "execution_count": null,
   "metadata": {},
   "outputs": [],
   "source": [
    "# Convert the Spark DataFrame to Pandas for plotting\n",
    "distance_fare_bins_df = distance_fare_bins.toPandas()\n",
    "\n",
    "# Import necessary libraries for plotting\n",
    "import matplotlib.pyplot as plt\n",
    "\n",
    "# Plot the average fare per distance bin\n",
    "plt.figure(figsize=(10, 6))\n",
    "plt.bar(distance_fare_bins_df['distance_bin'], distance_fare_bins_df['average_fare'], color='skyblue')\n",
    "plt.xlabel('Distance Bin')\n",
    "plt.ylabel('Average Fare Amount ($)')\n",
    "plt.title('Average Fare Amount per Distance Bin')\n",
    "plt.grid(axis='y')\n",
    "plt.show()"
   ]
  },
  {
   "cell_type": "markdown",
   "metadata": {},
   "source": [
    "## Q10: Payment Type Fare Comparison"
   ]
  },
  {
   "cell_type": "code",
   "execution_count": null,
   "metadata": {},
   "outputs": [
    {
     "name": "stderr",
     "output_type": "stream",
     "text": [
      "[Stage 49:==================================>                      (9 + 6) / 15]\r"
     ]
    },
    {
     "name": "stdout",
     "output_type": "stream",
     "text": [
      "+------------+-------------------+\n",
      "|payment_type|average_fare_amount|\n",
      "+------------+-------------------+\n",
      "|           1|  12.50128976774208|\n",
      "|           3| 10.396839148892102|\n",
      "|           4|   9.71586034079519|\n",
      "|           2| 10.948657421477954|\n",
      "|           5|                3.0|\n",
      "+------------+-------------------+\n",
      "\n"
     ]
    },
    {
     "name": "stderr",
     "output_type": "stream",
     "text": [
      "                                                                                \r"
     ]
    }
   ],
   "source": [
    "# SQL query to calculate average fare amount for each payment type\n",
    "query = \"\"\"\n",
    "SELECT payment_type, AVG(fare_amount) AS average_fare_amount\n",
    "FROM yellow_taxi_data\n",
    "GROUP BY payment_type\n",
    "\"\"\"\n",
    "\n",
    "# Execute the query\n",
    "result_df = spark.sql(query)\n",
    "\n",
    "# Show the result\n",
    "result_df.show()"
   ]
  },
  {
   "cell_type": "markdown",
   "metadata": {},
   "source": [
    "## Visualization:"
   ]
  },
  {
   "cell_type": "code",
   "execution_count": null,
   "metadata": {},
   "outputs": [
    {
     "name": "stderr",
     "output_type": "stream",
     "text": [
      "                                                                                \r"
     ]
    },
    {
     "data": {
      "image/png": "[encoded data removed]",
      "text/plain": [
       "<Figure size 800x600 with 1 Axes>"
      ]
     },
     "metadata": {},
     "output_type": "display_data"
    }
   ],
   "source": [
    "# Convert the Spark DataFrame to a Pandas DataFrame for plotting\n",
    "average_fare_by_payment_type = result_df.toPandas()\n",
    "\n",
    "# Import necessary libraries for plotting\n",
    "import matplotlib.pyplot as plt\n",
    "\n",
    "# Plot the average fare by payment type\n",
    "plt.figure(figsize=(8, 6))\n",
    "plt.bar(average_fare_by_payment_type['payment_type'], average_fare_by_payment_type['average_fare_amount'])\n",
    "plt.xlabel('Payment Type')\n",
    "plt.ylabel('Average Fare Amount ($)')\n",
    "plt.title('Average Fare Amount by Payment Type')\n",
    "plt.show()"
   ]
  },
  {
   "cell_type": "markdown",
   "metadata": {},
   "source": [
    "## Q11: : Time Series Analysis of Trips"
   ]
  },
  {
   "cell_type": "code",
   "execution_count": null,
   "metadata": {},
   "outputs": [
    {
     "name": "stderr",
     "output_type": "stream",
     "text": [
      "[Stage 55:==================================>                      (9 + 6) / 15]\r"
     ]
    },
    {
     "name": "stdout",
     "output_type": "stream",
     "text": [
      "+----------+----------+\n",
      "| trip_date|trip_count|\n",
      "+----------+----------+\n",
      "|2015-01-01|    382014|\n",
      "|2015-01-02|    345296|\n",
      "|2015-01-03|    406769|\n",
      "|2015-01-04|    328848|\n",
      "|2015-01-05|    363454|\n",
      "|2015-01-06|    384324|\n",
      "|2015-01-07|    429653|\n",
      "|2015-01-08|    450920|\n",
      "|2015-01-09|    447947|\n",
      "|2015-01-10|    515540|\n",
      "|2015-01-11|    419629|\n",
      "|2015-01-12|    396367|\n",
      "|2015-01-13|    448517|\n",
      "|2015-01-14|    442656|\n",
      "|2015-01-15|    451186|\n",
      "|2015-01-16|    478124|\n",
      "|2015-01-17|    476827|\n",
      "|2015-01-18|    427042|\n",
      "|2015-01-19|    342795|\n",
      "|2015-01-20|    405581|\n",
      "+----------+----------+\n",
      "only showing top 20 rows\n",
      "\n"
     ]
    },
    {
     "name": "stderr",
     "output_type": "stream",
     "text": [
      "                                                                                \r"
     ]
    }
   ],
   "source": [
    "# SQL query to count trips per day\n",
    "query = \"\"\"\n",
    "SELECT DATE(tpep_pickup_datetime) AS trip_date, COUNT(*) AS trip_count\n",
    "FROM yellow_taxi_data\n",
    "GROUP BY trip_date\n",
    "ORDER BY trip_date\n",
    "\"\"\"\n",
    "\n",
    "# Execute the query\n",
    "daily_trip_counts = spark.sql(query)\n",
    "\n",
    "# Show the result\n",
    "daily_trip_counts.show()"
   ]
  },
  {
   "cell_type": "markdown",
   "metadata": {},
   "source": [
    "## Visualization:"
   ]
  },
  {
   "cell_type": "code",
   "execution_count": null,
   "metadata": {},
   "outputs": [
    {
     "data": {
      "image/png": "[encoded data removed]",
      "text/plain": [
       "<Figure size 1000x600 with 1 Axes>"
      ]
     },
     "metadata": {},
     "output_type": "display_data"
    }
   ],
   "source": [
    "# Convert the result to a Pandas DataFrame\n",
    "import pandas as pd\n",
    "daily_trip_counts_df = daily_trip_counts.toPandas()\n",
    "\n",
    "# Import necessary libraries for plotting\n",
    "import matplotlib.pyplot as plt\n",
    "\n",
    "# Convert 'trip_date' to datetime format for accurate plotting\n",
    "daily_trip_counts_df['trip_date'] = pd.to_datetime(daily_trip_counts_df['trip_date'])\n",
    "\n",
    "# Plot the daily trip counts\n",
    "plt.figure(figsize=(10, 6))\n",
    "plt.plot(daily_trip_counts_df['trip_date'], daily_trip_counts_df['trip_count'], marker='o')\n",
    "plt.xlabel('Date')\n",
    "plt.ylabel('Number of Trips')\n",
    "plt.title('Daily Trip Counts Over the Month')\n",
    "plt.xticks(rotation=45)\n",
    "plt.grid(True)\n",
    "plt.show()"
   ]
  },
  {
   "cell_type": "code",
   "execution_count": null,
   "metadata": {},
   "outputs": [],
   "source": []
  },
  {
   "cell_type": "markdown",
   "metadata": {},
   "source": [
    "## Q12: Location Analysis"
   ]
  },
  {
   "cell_type": "code",
   "execution_count": null,
   "metadata": {},
   "outputs": [
    {
     "name": "stderr",
     "output_type": "stream",
     "text": [
      "24/11/07 13:53:01 WARN RowBasedKeyValueBatch: Calling spill() on RowBasedKeyValueBatch. Will not spill but return 0.\n",
      "24/11/07 13:53:01 WARN RowBasedKeyValueBatch: Calling spill() on RowBasedKeyValueBatch. Will not spill but return 0.\n",
      "24/11/07 13:53:01 WARN RowBasedKeyValueBatch: Calling spill() on RowBasedKeyValueBatch. Will not spill but return 0.\n",
      "24/11/07 13:53:01 WARN RowBasedKeyValueBatch: Calling spill() on RowBasedKeyValueBatch. Will not spill but return 0.\n",
      "24/11/07 13:53:01 WARN RowBasedKeyValueBatch: Calling spill() on RowBasedKeyValueBatch. Will not spill but return 0.\n",
      "24/11/07 13:53:01 WARN RowBasedKeyValueBatch: Calling spill() on RowBasedKeyValueBatch. Will not spill but return 0.\n",
      "24/11/07 13:53:01 WARN RowBasedKeyValueBatch: Calling spill() on RowBasedKeyValueBatch. Will not spill but return 0.\n",
      "24/11/07 13:53:01 WARN RowBasedKeyValueBatch: Calling spill() on RowBasedKeyValueBatch. Will not spill but return 0.\n",
      "24/11/07 13:53:05 WARN RowBasedKeyValueBatch: Calling spill() on RowBasedKeyValueBatch. Will not spill but return 0.\n",
      "24/11/07 13:53:05 WARN RowBasedKeyValueBatch: Calling spill() on RowBasedKeyValueBatch. Will not spill but return 0.\n",
      "24/11/07 13:53:05 WARN RowBasedKeyValueBatch: Calling spill() on RowBasedKeyValueBatch. Will not spill but return 0.\n",
      "24/11/07 13:53:05 WARN RowBasedKeyValueBatch: Calling spill() on RowBasedKeyValueBatch. Will not spill but return 0.\n",
      "24/11/07 13:53:05 WARN RowBasedKeyValueBatch: Calling spill() on RowBasedKeyValueBatch. Will not spill but return 0.\n",
      "24/11/07 13:53:05 WARN RowBasedKeyValueBatch: Calling spill() on RowBasedKeyValueBatch. Will not spill but return 0.\n",
      "24/11/07 13:53:05 WARN RowBasedKeyValueBatch: Calling spill() on RowBasedKeyValueBatch. Will not spill but return 0.\n",
      "                                                                                \r"
     ]
    },
    {
     "name": "stdout",
     "output_type": "stream",
     "text": [
      "+------------------+------------------+----------+\n",
      "|  pickup_longitude|   pickup_latitude|trip_count|\n",
      "+------------------+------------------+----------+\n",
      "|               0.0|               0.0|    243478|\n",
      "|-73.94863891601562| 40.74489974975586|      1043|\n",
      "| -74.1863021850586| 40.69314193725586|       729|\n",
      "| -73.9867172241211|  40.7222900390625|       429|\n",
      "|-73.91512298583984| 40.74357604980469|       306|\n",
      "|-74.00314331054688| 40.72767639160156|       233|\n",
      "|-73.92151641845703|40.691463470458984|       153|\n",
      "|-73.98845672607422|40.731502532958984|       147|\n",
      "|-73.97827911376953|  40.6429443359375|       121|\n",
      "|-73.94208526611328|40.754417419433594|       108|\n",
      "+------------------+------------------+----------+\n",
      "\n"
     ]
    },
    {
     "name": "stderr",
     "output_type": "stream",
     "text": [
      "24/11/07 13:53:10 WARN RowBasedKeyValueBatch: Calling spill() on RowBasedKeyValueBatch. Will not spill but return 0.\n",
      "24/11/07 13:53:10 WARN RowBasedKeyValueBatch: Calling spill() on RowBasedKeyValueBatch. Will not spill but return 0.\n",
      "24/11/07 13:53:10 WARN RowBasedKeyValueBatch: Calling spill() on RowBasedKeyValueBatch. Will not spill but return 0.\n",
      "24/11/07 13:53:10 WARN RowBasedKeyValueBatch: Calling spill() on RowBasedKeyValueBatch. Will not spill but return 0.\n",
      "24/11/07 13:53:10 WARN RowBasedKeyValueBatch: Calling spill() on RowBasedKeyValueBatch. Will not spill but return 0.\n",
      "24/11/07 13:53:10 WARN RowBasedKeyValueBatch: Calling spill() on RowBasedKeyValueBatch. Will not spill but return 0.\n",
      "24/11/07 13:53:10 WARN RowBasedKeyValueBatch: Calling spill() on RowBasedKeyValueBatch. Will not spill but return 0.\n",
      "24/11/07 13:53:10 WARN RowBasedKeyValueBatch: Calling spill() on RowBasedKeyValueBatch. Will not spill but return 0.\n",
      "24/11/07 13:53:15 WARN RowBasedKeyValueBatch: Calling spill() on RowBasedKeyValueBatch. Will not spill but return 0.\n",
      "24/11/07 13:53:15 WARN RowBasedKeyValueBatch: Calling spill() on RowBasedKeyValueBatch. Will not spill but return 0.\n",
      "24/11/07 13:53:15 WARN RowBasedKeyValueBatch: Calling spill() on RowBasedKeyValueBatch. Will not spill but return 0.\n",
      "24/11/07 13:53:15 WARN RowBasedKeyValueBatch: Calling spill() on RowBasedKeyValueBatch. Will not spill but return 0.\n",
      "24/11/07 13:53:15 WARN RowBasedKeyValueBatch: Calling spill() on RowBasedKeyValueBatch. Will not spill but return 0.\n",
      "24/11/07 13:53:15 WARN RowBasedKeyValueBatch: Calling spill() on RowBasedKeyValueBatch. Will not spill but return 0.\n",
      "24/11/07 13:53:15 WARN RowBasedKeyValueBatch: Calling spill() on RowBasedKeyValueBatch. Will not spill but return 0.\n",
      "[Stage 83:>                                                         (0 + 8) / 9]\r"
     ]
    },
    {
     "name": "stdout",
     "output_type": "stream",
     "text": [
      "+------------------+------------------+----------+\n",
      "| dropoff_longitude|  dropoff_latitude|trip_count|\n",
      "+------------------+------------------+----------+\n",
      "|               0.0|               0.0|    235318|\n",
      "|-73.94863891601562| 40.74489974975586|      1043|\n",
      "| -74.1863021850586| 40.69314193725586|       729|\n",
      "| -73.9867172241211|  40.7222900390625|       428|\n",
      "|-73.91512298583984| 40.74357604980469|       322|\n",
      "|-74.00314331054688| 40.72767639160156|       233|\n",
      "|-73.98845672607422|40.731502532958984|       155|\n",
      "|-73.92151641845703|40.691463470458984|       153|\n",
      "|-73.97827911376953|  40.6429443359375|       121|\n",
      "|-73.94208526611328|40.754417419433594|       108|\n",
      "+------------------+------------------+----------+\n",
      "\n"
     ]
    },
    {
     "name": "stderr",
     "output_type": "stream",
     "text": [
      "                                                                                \r"
     ]
    }
   ],
   "source": [
    "# SQL query to find the top 10 pickup locations\n",
    "pickup_query = \"\"\"\n",
    "SELECT pickup_longitude, pickup_latitude, COUNT(*) AS trip_count\n",
    "FROM yellow_taxi_data\n",
    "GROUP BY pickup_longitude, pickup_latitude\n",
    "ORDER BY trip_count DESC\n",
    "LIMIT 10\n",
    "\"\"\"\n",
    "\n",
    "# Execute the query\n",
    "top_pickup_locations = spark.sql(pickup_query)\n",
    "\n",
    "# Show the result\n",
    "top_pickup_locations.show()"
   ]
  },
  {
   "cell_type": "code",
   "execution_count": null,
   "metadata": {},
   "outputs": [],
   "source": [
    "dropoff_query = \"\"\"\n",
    "SELECT dropoff_longitude, dropoff_latitude, COUNT(*) AS trip_count\n",
    "FROM yellow_taxi_data\n",
    "GROUP BY dropoff_longitude, dropoff_latitude\n",
    "ORDER BY trip_count DESC\n",
    "LIMIT 10\n",
    "\"\"\"\n",
    "\n",
    "# Execute the query\n",
    "top_dropoff_locations = spark.sql(dropoff_query)\n",
    "\n",
    "# Show the result\n",
    "top_dropoff_locations.show()"
   ]
  },
  {
   "cell_type": "code",
   "execution_count": null,
   "metadata": {},
   "outputs": [],
   "source": []
  },
  {
   "cell_type": "markdown",
   "metadata": {},
   "source": [
    "## Visualization"
   ]
  },
  {
   "cell_type": "code",
   "execution_count": null,
   "metadata": {},
   "outputs": [],
   "source": []
  },
  {
   "cell_type": "code",
   "execution_count": null,
   "metadata": {},
   "outputs": [
    {
     "name": "stderr",
     "output_type": "stream",
     "text": [
      "                                                                                \r"
     ]
    },
    {
     "data": {
      "image/png": "[encoded data removed]",
      "text/plain": [
       "<Figure size 1200x600 with 2 Axes>"
      ]
     },
     "metadata": {},
     "output_type": "display_data"
    }
   ],
   "source": [
    "import matplotlib.pyplot as plt\n",
    "\n",
    "# Convert the Spark DataFrames to Pandas DataFrames\n",
    "pickup_df = top_pickup_locations.toPandas()\n",
    "dropoff_df = top_dropoff_locations.toPandas()\n",
    "\n",
    "# Plot settings\n",
    "plt.figure(figsize=(12, 6))\n",
    "\n",
    "# Scatter plot for top pickup locations\n",
    "plt.subplot(1, 2, 1)\n",
    "plt.scatter(pickup_df['pickup_longitude'], pickup_df['pickup_latitude'], \n",
    "            s=pickup_df['trip_count'] * 0.1, c='blue', alpha=0.6)\n",
    "plt.xlabel('Longitude')\n",
    "plt.ylabel('Latitude')\n",
    "plt.title('Top 10 Pickup Locations')\n",
    "plt.grid(True)\n",
    "\n",
    "# Scatter plot for top drop-off locations\n",
    "plt.subplot(1, 2, 2)\n",
    "plt.scatter(dropoff_df['dropoff_longitude'], dropoff_df['dropoff_latitude'], \n",
    "            s=dropoff_df['trip_count'] * 0.1, c='red', alpha=0.6)\n",
    "plt.xlabel('Longitude')\n",
    "plt.ylabel('Latitude')\n",
    "plt.title('Top 10 Drop-off Locations')\n",
    "plt.grid(True)\n",
    "\n",
    "# Show the plots\n",
    "plt.tight_layout()\n",
    "plt.show()"
   ]
  },
  {
   "cell_type": "markdown",
   "metadata": {},
   "source": [
    "## Q13: Fare Amount Distribution Analysis"
   ]
  },
  {
   "cell_type": "code",
   "execution_count": null,
   "metadata": {},
   "outputs": [
    {
     "name": "stderr",
     "output_type": "stream",
     "text": [
      "[Stage 110:========================================>              (11 + 4) / 15]\r"
     ]
    },
    {
     "name": "stdout",
     "output_type": "stream",
     "text": [
      "+--------+--------+------------------+-----------+------------------+\n",
      "|min_fare|max_fare|          avg_fare|median_fare|       stddev_fare|\n",
      "+--------+--------+------------------+-----------+------------------+\n",
      "|  -450.0|  4008.0|11.905659425776989|        9.0|10.302537135952232|\n",
      "+--------+--------+------------------+-----------+------------------+\n",
      "\n"
     ]
    },
    {
     "name": "stderr",
     "output_type": "stream",
     "text": [
      "                                                                                \r"
     ]
    }
   ],
   "source": [
    "# SQL query to get summary statistics for fare amounts\n",
    "summary_query = \"\"\"\n",
    "SELECT \n",
    "    MIN(fare_amount) AS min_fare,\n",
    "    MAX(fare_amount) AS max_fare,\n",
    "    AVG(fare_amount) AS avg_fare,\n",
    "    PERCENTILE_APPROX(fare_amount, 0.5) AS median_fare,\n",
    "    STDDEV(fare_amount) AS stddev_fare\n",
    "FROM yellow_taxi_data\n",
    "\"\"\"\n",
    "\n",
    "# Execute the query\n",
    "summary_stats = spark.sql(summary_query)\n",
    "\n",
    "# Show the result\n",
    "summary_stats.show()"
   ]
  },
  {
   "cell_type": "markdown",
   "metadata": {},
   "source": [
    "## Visualization:"
   ]
  },
  {
   "cell_type": "code",
   "execution_count": null,
   "metadata": {},
   "outputs": [
    {
     "name": "stderr",
     "output_type": "stream",
     "text": [
      "24/11/07 14:03:04 WARN SparkSession: Using an existing Spark session; only runtime SQL configurations will take effect.\n"
     ]
    },
    {
     "data": {
      "image/png": "[encoded data removed]",
      "text/plain": [
       "<Figure size 800x600 with 1 Axes>"
      ]
     },
     "metadata": {},
     "output_type": "display_data"
    }
   ],
   "source": [
    "from pyspark.sql import SparkSession\n",
    "\n",
    "# Initialize Spark session (if not already initialized)\n",
    "spark = SparkSession.builder \\\n",
    "    .appName(\"FareAmountAnalysis\") \\\n",
    "    .getOrCreate()\n",
    "\n",
    "# Execute the query with a LIMIT to reduce data size for testing\n",
    "limited_fare_amount_df = spark.sql(\"SELECT fare_amount FROM yellow_taxi_data LIMIT 10000\").toPandas()\n",
    "\n",
    "# Import necessary libraries for plotting\n",
    "import matplotlib.pyplot as plt\n",
    "\n",
    "# Plot a box plot for fare amounts\n",
    "plt.figure(figsize=(8, 6))\n",
    "plt.boxplot(limited_fare_amount_df['fare_amount'], vert=False, patch_artist=True)\n",
    "plt.xlabel('Fare Amount ($)')\n",
    "plt.title('Distribution of Fare Amounts')\n",
    "plt.grid(True)\n",
    "plt.show()"
   ]
  }
 ],
 "metadata": {
  "application/vnd.databricks.v1+notebook": {
   "dashboards": [],
   "environmentMetadata": null,
   "language": "python",
   "notebookMetadata": {
    "mostRecentlyExecutedCommandWithImplicitDF": {
     "commandId": 3914775564297067,
     "dataframes": [
      "_sqldf"
     ]
    },
    "pythonIndentUnit": 4
   },
   "notebookName": "Assignment 2",
   "widgets": {}
  },
  "kernelspec": {
   "display_name": "Python 3",
   "language": "python",
   "name": "python3"
  },
  "language_info": {
   "codemirror_mode": {
    "name": "ipython",
    "version": 3
   },
   "file_extension": ".py",
   "mimetype": "text/x-python",
   "name": "python",
   "nbconvert_exporter": "python",
   "pygments_lexer": "ipython3",
   "version": "3.11.0"
  }
 },
 "nbformat": 4,
 "nbformat_minor": 0
}
